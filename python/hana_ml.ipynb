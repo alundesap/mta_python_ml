{
 "cells": [
  {
   "cell_type": "code",
   "execution_count": 1,
   "metadata": {},
   "outputs": [],
   "source": [
    "import sys"
   ]
  },
  {
   "cell_type": "code",
   "execution_count": 2,
   "metadata": {},
   "outputs": [
    {
     "name": "stdout",
     "output_type": "stream",
     "text": [
      "['', '/usr/sap/HXE/HDB90/hxe_python_ml/mta_python_ml/python/vendor', '/usr/sap/HXE/HDB90/hxe_python_ml/python_3_6_5/lib/python36.zip', '/usr/sap/HXE/HDB90/hxe_python_ml/python_3_6_5/lib/python3.6', '/usr/sap/HXE/HDB90/hxe_python_ml/python_3_6_5/lib/python3.6/lib-dynload', '/usr/sap/HXE/HDB90/hxe_python_ml/python_3_6_5/lib/python3.6/site-packages', '/usr/sap/HXE/HDB90/hxe_python_ml/python_3_6_5/lib/python3.6/site-packages/IPython/extensions', '/usr/sap/HXE/home/.ipython']\n"
     ]
    }
   ],
   "source": [
    "print(sys.path)"
   ]
  },
  {
   "cell_type": "code",
   "execution_count": 3,
   "metadata": {},
   "outputs": [],
   "source": [
    "import hana_ml"
   ]
  },
  {
   "cell_type": "code",
   "execution_count": null,
   "metadata": {},
   "outputs": [],
   "source": []
  }
 ],
 "metadata": {
  "kernelspec": {
   "display_name": "Python 3",
   "language": "python",
   "name": "python3"
  },
  "language_info": {
   "codemirror_mode": {
    "name": "ipython",
    "version": 3
   },
   "file_extension": ".py",
   "mimetype": "text/x-python",
   "name": "python",
   "nbconvert_exporter": "python",
   "pygments_lexer": "ipython3",
   "version": "3.6.5"
  }
 },
 "nbformat": 4,
 "nbformat_minor": 2
}
