{
 "cells": [
  {
   "cell_type": "code",
   "execution_count": 58,
   "metadata": {},
   "outputs": [],
   "source": [
    "import sys"
   ]
  },
  {
   "cell_type": "code",
   "execution_count": 59,
   "metadata": {},
   "outputs": [],
   "source": [
    "#print(sys.path)"
   ]
  },
  {
   "cell_type": "code",
   "execution_count": 61,
   "metadata": {},
   "outputs": [],
   "source": [
    "import os"
   ]
  },
  {
   "cell_type": "code",
   "execution_count": null,
   "metadata": {},
   "outputs": [],
   "source": [
    "vcapsvcs_str = '''\n",
    "{\n",
    "    \"xsuaa\" : [ {\n",
    "      \"name\" : \"python-ml-uaa\",\n",
    "      \"label\" : \"xsuaa\",\n",
    "      \"tags\" : [ \"xsuaa\" ],\n",
    "      \"plan\" : \"default\",\n",
    "      \"credentials\" : {\n",
    "        \"tenantmode\" : \"dedicated\",\n",
    "        \"clientid\" : \"sb-na-193ff3e7-922d-4068-969d-1b0f53aa7951\",\n",
    "        \"verificationkey\" : \"-----BEGIN PUBLIC KEY-----MIIBIjANBgkqhkiG9w0BAQEFAAOCAQ8AMIIBCgKCAQEAsYtDBo6f+SHpxVJ+2fwnIVdSzrbuoP6lFYRfZ29soZ0XSw51IHoa3ew4t8Ep7d15ua3r7ZZCf3wteGkSO+0QdcJwak0lAEygdD9uVlANLZmu9jZMKmOcn/65XDyn++YJWQt2o5AS6Kz4XLQGSOVReQbfchcMiqJhebCtEAFTb0oYtxYjGY4dWqGnJFpv2iL/oRs304JGogaxz7cUzQiUkLDK6/elsbWAtvu+H6R1vitt/EEsHkYh3+/V5/Rf3+G16IKxIFQxIwZOR5pk1CMll1inm/Ya7Z2n5nrxs5vglyuV0oThqWxKEtNQGPG6990hOnHoMYu8JXPshL07HreIkwIDAQAB-----END PUBLIC KEY-----\",\n",
    "        \"xsappname\" : \"na-193ff3e7-922d-4068-969d-1b0f53aa7951\",\n",
    "        \"identityzone\" : \"uaa\",\n",
    "        \"identityzoneid\" : \"uaa\",\n",
    "        \"clientsecret\" : \"m63m25atIbQs27NnuOFoqeKqDhGxTxjvQW4m52hfSxDlJPuBrQQSaZQ6QPqpyE0jtzLorajiqTv0\\nVTCiddMUMw==\",\n",
    "        \"url\" : \"https://hxehost:39032/uaa-security\"\n",
    "      }\n",
    "    } ],\n",
    "    \"hana\" : [ {\n",
    "      \"name\" : \"python-ml-hdi\",\n",
    "      \"label\" : \"hana\",\n",
    "      \"tags\" : [ \"hana\", \"database\", \"relational\" ],\n",
    "      \"plan\" : \"hdi-shared\",\n",
    "      \"credentials\" : {\n",
    "        \"schema\" : \"E4BA032547384A4C82CC3460445F2AA2\",\n",
    "        \"hdi_password\" : \"Sj2Ueol9Gk7BsgH3V1atnjjuuQnrBv97drkIJJwxGb_n9.lGp_ZiWMpzIBxD7skg95GF1I5FMkYtGiNKc52HUn2pevT2tkzvjVJZOENG_6oS6eou8MDbSIE.ob8Ki9Pw\",\n",
    "        \"password\" : \"Sb9x_0U165lN0_YkomXdAI.Qp1P8nauMYrE_mOOK-Xrvc5CPd.LXFH-on3xvW.esSf3SkAJh97B-gSizdght9xnGKTI28G0nEYoJt-N4j12RBqXh0LYoHQBf7aSSXZEl\",\n",
    "        \"driver\" : \"com.sap.db.jdbc.Driver\",\n",
    "        \"port\" : \"39013\",\n",
    "        \"host\" : \"hxehost\",\n",
    "        \"db_hosts\" : [ {\n",
    "          \"port\" : 39013,\n",
    "          \"host\" : \"hxehost\"\n",
    "        } ],\n",
    "        \"hdi_user\" : \"E4BA032547384A4C82CC3460445F2AA2_7E8FB15BT3WE2DB4LGIQ8315K_DT\",\n",
    "        \"user\" : \"E4BA032547384A4C82CC3460445F2AA2_BHLD7OT0V73FGWXWR6IDK0ZDQ_RT\",\n",
    "        \"url\" : \"jdbc:sap://hxehost:39013/?currentschema=E4BA032547384A4C82CC3460445F2AA2\"\n",
    "      }\n",
    "    } ]\n",
    "  }\n",
    "'''"
   ]
  },
  {
   "cell_type": "code",
   "execution_count": 66,
   "metadata": {},
   "outputs": [],
   "source": [
    "import string\n",
    "vcapsvcs_str = vcapsvcs_str.translate( { ord(c):None for c in ' \\n\\t\\r' } )"
   ]
  },
  {
   "cell_type": "code",
   "execution_count": 67,
   "metadata": {},
   "outputs": [
    {
     "name": "stdout",
     "output_type": "stream",
     "text": [
      "{\"xsuaa\":[{\"name\":\"python-ml-uaa\",\"label\":\"xsuaa\",\"tags\":[\"xsuaa\"],\"plan\":\"default\",\"credentials\":{\"tenantmode\":\"dedicated\",\"clientid\":\"sb-na-193ff3e7-922d-4068-969d-1b0f53aa7951\",\"verificationkey\":\"-----BEGINPUBLICKEY-----MIIBIjANBgkqhkiG9w0BAQEFAAOCAQ8AMIIBCgKCAQEAsYtDBo6f+SHpxVJ+2fwnIVdSzrbuoP6lFYRfZ29soZ0XSw51IHoa3ew4t8Ep7d15ua3r7ZZCf3wteGkSO+0QdcJwak0lAEygdD9uVlANLZmu9jZMKmOcn/65XDyn++YJWQt2o5AS6Kz4XLQGSOVReQbfchcMiqJhebCtEAFTb0oYtxYjGY4dWqGnJFpv2iL/oRs304JGogaxz7cUzQiUkLDK6/elsbWAtvu+H6R1vitt/EEsHkYh3+/V5/Rf3+G16IKxIFQxIwZOR5pk1CMll1inm/Ya7Z2n5nrxs5vglyuV0oThqWxKEtNQGPG6990hOnHoMYu8JXPshL07HreIkwIDAQAB-----ENDPUBLICKEY-----\",\"xsappname\":\"na-193ff3e7-922d-4068-969d-1b0f53aa7951\",\"identityzone\":\"uaa\",\"identityzoneid\":\"uaa\",\"clientsecret\":\"m63m25atIbQs27NnuOFoqeKqDhGxTxjvQW4m52hfSxDlJPuBrQQSaZQ6QPqpyE0jtzLorajiqTv0VTCiddMUMw==\",\"url\":\"https://hxehost:39032/uaa-security\"}}],\"hana\":[{\"name\":\"python-ml-hdi\",\"label\":\"hana\",\"tags\":[\"hana\",\"database\",\"relational\"],\"plan\":\"hdi-shared\",\"credentials\":{\"schema\":\"E4BA032547384A4C82CC3460445F2AA2\",\"hdi_password\":\"Sj2Ueol9Gk7BsgH3V1atnjjuuQnrBv97drkIJJwxGb_n9.lGp_ZiWMpzIBxD7skg95GF1I5FMkYtGiNKc52HUn2pevT2tkzvjVJZOENG_6oS6eou8MDbSIE.ob8Ki9Pw\",\"password\":\"Sb9x_0U165lN0_YkomXdAI.Qp1P8nauMYrE_mOOK-Xrvc5CPd.LXFH-on3xvW.esSf3SkAJh97B-gSizdght9xnGKTI28G0nEYoJt-N4j12RBqXh0LYoHQBf7aSSXZEl\",\"driver\":\"com.sap.db.jdbc.Driver\",\"port\":\"39013\",\"host\":\"hxehost\",\"db_hosts\":[{\"port\":39013,\"host\":\"hxehost\"}],\"hdi_user\":\"E4BA032547384A4C82CC3460445F2AA2_7E8FB15BT3WE2DB4LGIQ8315K_DT\",\"user\":\"E4BA032547384A4C82CC3460445F2AA2_BHLD7OT0V73FGWXWR6IDK0ZDQ_RT\",\"url\":\"jdbc:sap://hxehost:39013/?currentschema=E4BA032547384A4C82CC3460445F2AA2\"}}]}\n"
     ]
    }
   ],
   "source": [
    "print(vcapsvcs_str)"
   ]
  },
  {
   "cell_type": "code",
   "execution_count": 68,
   "metadata": {},
   "outputs": [],
   "source": [
    "os.environ['VCAP_SERVICES'] = vcapsvcs_str"
   ]
  },
  {
   "cell_type": "code",
   "execution_count": 69,
   "metadata": {},
   "outputs": [],
   "source": [
    "from cfenv import AppEnv\n",
    "env = AppEnv()\n",
    "hana = env.get_service(label='hana')"
   ]
  },
  {
   "cell_type": "code",
   "execution_count": 70,
   "metadata": {},
   "outputs": [],
   "source": [
    "schema = hana.credentials['schema']\n",
    "host = hana.credentials['host']\n",
    "port = hana.credentials['port']\n",
    "user = hana.credentials['user']\n",
    "password = hana.credentials['password']"
   ]
  },
  {
   "cell_type": "code",
   "execution_count": 73,
   "metadata": {},
   "outputs": [
    {
     "name": "stdout",
     "output_type": "stream",
     "text": [
      "Key VCAP_SVCS values.\n",
      "\n",
      "host: hxehost\n",
      "port: 39013\n",
      "schema: E4BA032547384A4C82CC3460445F2AA2\n",
      "user: E4BA032547384A4C82CC3460445F2AA2_BHLD7OT0V73FGWXWR6IDK0ZDQ_RT\n",
      "pass: Sb9x_0U165lN0_YkomXdAI.Qp1P8nauMYrE_mOOK-Xrvc5CPd.LXFH-on3xvW.esSf3SkAJh97B-gSizdght9xnGKTI28G0nEYoJt-N4j12RBqXh0LYoHQBf7aSSXZEl\n",
      "\n"
     ]
    }
   ],
   "source": [
    "output = \"Key VCAP_SVCS values.\\n\\n\"\n",
    "output += 'host: ' + host + '\\n'\n",
    "output += 'port: ' + port + '\\n'\n",
    "output += 'schema: ' + schema + '\\n'\n",
    "output += 'user: ' + user + '\\n'\n",
    "output += 'pass: ' + password + '\\n'\n",
    "print(output)"
   ]
  },
  {
   "cell_type": "code",
   "execution_count": 72,
   "metadata": {},
   "outputs": [],
   "source": [
    "from hana_ml import dataframe\n",
    "import logging"
   ]
  },
  {
   "cell_type": "code",
   "execution_count": 74,
   "metadata": {},
   "outputs": [
    {
     "ename": "ModuleNotFoundError",
     "evalue": "No module named 'data_load_utils'",
     "output_type": "error",
     "traceback": [
      "\u001b[0;31m---------------------------------------------------------------------------\u001b[0m",
      "\u001b[0;31mModuleNotFoundError\u001b[0m                       Traceback (most recent call last)",
      "\u001b[0;32m<ipython-input-74-e68b4c524bda>\u001b[0m in \u001b[0;36m<module>\u001b[0;34m\u001b[0m\n\u001b[0;32m----> 1\u001b[0;31m \u001b[0;32mfrom\u001b[0m \u001b[0mdata_load_utils\u001b[0m \u001b[0;32mimport\u001b[0m \u001b[0mDataSets\u001b[0m\u001b[0;34m,\u001b[0m \u001b[0mSettings\u001b[0m\u001b[0;34m\u001b[0m\u001b[0m\n\u001b[0m\u001b[1;32m      2\u001b[0m \u001b[0mconnection_context\u001b[0m \u001b[0;34m=\u001b[0m \u001b[0mdataframe\u001b[0m\u001b[0;34m.\u001b[0m\u001b[0mConnectionContext\u001b[0m\u001b[0;34m(\u001b[0m\u001b[0mhost\u001b[0m\u001b[0;34m,\u001b[0m \u001b[0mport\u001b[0m\u001b[0;34m,\u001b[0m \u001b[0muser\u001b[0m\u001b[0;34m,\u001b[0m \u001b[0mpassword\u001b[0m\u001b[0;34m)\u001b[0m\u001b[0;34m\u001b[0m\u001b[0m\n",
      "\u001b[0;31mModuleNotFoundError\u001b[0m: No module named 'data_load_utils'"
     ]
    }
   ],
   "source": [
    "from data_load_utils import DataSets, Settings\n",
    "connection_context = dataframe.ConnectionContext(host, port, user, password)"
   ]
  },
  {
   "cell_type": "code",
   "execution_count": 54,
   "metadata": {},
   "outputs": [],
   "source": [
    "from sklearn.datasets import load_digits\n",
    "digits = load_digits()"
   ]
  },
  {
   "cell_type": "code",
   "execution_count": 55,
   "metadata": {},
   "outputs": [
    {
     "name": "stdout",
     "output_type": "stream",
     "text": [
      "(1797, 64)\n"
     ]
    },
    {
     "data": {
      "text/plain": [
       "(1797, 64)"
      ]
     },
     "execution_count": 55,
     "metadata": {},
     "output_type": "execute_result"
    }
   ],
   "source": [
    "print(digits.data.shape)\n",
    "(1797, 64)"
   ]
  },
  {
   "cell_type": "code",
   "execution_count": 57,
   "metadata": {},
   "outputs": [
    {
     "data": {
      "text/plain": [
       "<Figure size 432x288 with 0 Axes>"
      ]
     },
     "metadata": {},
     "output_type": "display_data"
    },
    {
     "data": {
      "image/png": "[encoded data removed]",
      "text/plain": [
       "<Figure size 288x288 with 1 Axes>"
      ]
     },
     "metadata": {
      "needs_background": "light"
     },
     "output_type": "display_data"
    }
   ],
   "source": [
    "import matplotlib.pyplot as plt \n",
    "plt.gray() \n",
    "plt.matshow(digits.images[0]) \n",
    "plt.show() "
   ]
  },
  {
   "cell_type": "code",
   "execution_count": null,
   "metadata": {},
   "outputs": [],
   "source": []
  }
 ],
 "metadata": {
  "kernelspec": {
   "display_name": "Python 3",
   "language": "python",
   "name": "python3"
  },
  "language_info": {
   "codemirror_mode": {
    "name": "ipython",
    "version": 3
   },
   "file_extension": ".py",
   "mimetype": "text/x-python",
   "name": "python",
   "nbconvert_exporter": "python",
   "pygments_lexer": "ipython3",
   "version": "3.6.5"
  }
 },
 "nbformat": 4,
 "nbformat_minor": 2
}
